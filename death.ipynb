{
 "cells": [
  {
   "cell_type": "code",
   "execution_count": 1,
   "id": "33d3fec3-2a62-44a3-a207-fa49a721b666",
   "metadata": {},
   "outputs": [
    {
     "name": "stdout",
     "output_type": "stream",
     "text": [
      "Exported table 'encounter' to 'encounter.csv'\n",
      "Exported table 'entity' to 'entity.csv'\n"
     ]
    }
   ],
   "source": [
    "import sqlite3\n",
    "import csv\n",
    "import os\n",
    "import pandas as pd\n",
    "\n",
    "# Connect to the SQLite database\n",
    "conn = sqlite3.connect('encounters.db')\n",
    "cursor = conn.cursor()\n",
    "\n",
    "# Get the list of tables in the database\n",
    "cursor.execute(\"SELECT name FROM sqlite_master WHERE type='table';\")\n",
    "tables = cursor.fetchall()\n",
    "\n",
    "# Export each table to a separate CSV file\n",
    "for table in tables:\n",
    "    table_name = table[0]\n",
    "    csv_file_path = f'{table_name}.csv'\n",
    "    \n",
    "    # Execute a query to select all data from the table\n",
    "    cursor.execute(f'SELECT * FROM {table_name}')\n",
    "    rows = cursor.fetchall()\n",
    "    \n",
    "    # Write data to the CSV file\n",
    "    # Certain characters break if not UTF-8 enocoded, might be the korean?\n",
    "    with open(csv_file_path, 'w',encoding=\"utf-8\", newline='') as csvfile:\n",
    "        csvwriter = csv.writer(csvfile)\n",
    "        csvwriter.writerow([description[0] for description in cursor.description])\n",
    "        csvwriter.writerows(rows)\n",
    "\n",
    "    print(f\"Exported table '{table_name}' to '{csv_file_path}'\")\n",
    "\n",
    "conn.close()"
   ]
  },
  {
   "cell_type": "code",
   "execution_count": 2,
   "id": "cf7a4afa-a2c5-49c8-8748-87068e418d8c",
   "metadata": {},
   "outputs": [],
   "source": [
    "def remove_junk_names(df):\n",
    "    ''' not sure why this occurs but to remove non player names that get in there run this over the death df'''\n",
    "    df = df[df['name'].str.contains('\\d') == False]\n",
    "    return df\n",
    "\n",
    "entity_df = pd.read_csv('entity.csv')\n",
    "entity_df = remove_junk_names(entity_df)\n",
    "encounter_df = pd.read_csv('encounter.csv')"
   ]
  },
  {
   "cell_type": "code",
   "execution_count": 3,
   "id": "bcdba57a-009d-4bfd-9103-effde113653a",
   "metadata": {},
   "outputs": [],
   "source": [
    "# Grab the boss in question and only look at the players\n",
    "one_boss_all_encounters = entity_df[entity_df['name']=='Thaemine the Lightqueller']\n",
    "one_boss_all_encounters = entity_df[entity_df['encounter_id'].isin(one_boss_all_encounters['encounter_id'])]\n",
    "players = one_boss_all_encounters[one_boss_all_encounters['entity_type'] == 'PLAYER']\n",
    "\n",
    "# The combat details are under damage_stats so to merge them back in we reset the index then concat them together.\n",
    "# there is a lot of worthless columns here so maybe remove those later idc\n",
    "players.reset_index(drop=True,inplace=True)\n",
    "from pandas import json_normalize\n",
    "damage_stats = json_normalize(players['damage_stats'].apply(eval))\n",
    "players_full_detail = pd.concat([players,damage_stats], axis = 1)\n",
    "# Get death information\n",
    "\n",
    "# we just care about deaths for this\n",
    "player_data_clean = players_full_detail[['name','encounter_id','deathTime']]\n",
    "\n",
    "# If someone doesn't die the deathtime = 0 so to make it so it doesn't look like they die first I am setting the death time for them to 9999999999999\n",
    "player_data_clean.loc[player_data_clean['deathTime'] == 0, 'deathTime'] = 9999999999999\n",
    "\n",
    "# Use when you want to see all the columns\n",
    "# players.columns.tolist()"
   ]
  },
  {
   "cell_type": "code",
   "execution_count": 4,
   "id": "589daef6-1360-4f5a-97db-0be5a5eb53df",
   "metadata": {},
   "outputs": [],
   "source": [
    "# filter out the people who live until restart\n",
    "encounter_death_info = encounter_df[['id','last_combat_packet','fight_start','duration']]\n",
    "encounter_death_info = encounter_death_info.rename(columns = {'id':'encounter_id',\n",
    "                                        'last_combat_packet' :'last_combat_packet',\n",
    "                                        'fight_start' : 'fight_start',\n",
    "                                        'duration' : 'duration'})\n",
    "\n",
    "# Remove deaths from restarts and kill pulls\n",
    "removed_deaths = player_data_clean.merge(encounter_death_info,on='encounter_id',how='left')\n",
    "# 1000 = 1 seconds in unix epoch time\n",
    "removed_deaths = removed_deaths[removed_deaths['deathTime'] <= (removed_deaths['last_combat_packet'] - 1500)]\n",
    "player_data_clean = removed_deaths[['name','encounter_id','deathTime']]"
   ]
  },
  {
   "cell_type": "code",
   "execution_count": 5,
   "id": "d68cf4f7-5c87-45be-a64b-da1d741f3152",
   "metadata": {},
   "outputs": [],
   "source": [
    "# removed_deaths.groupby(['encounter_id','name']).max().sort_values(by='deathTime',ascending=True).head(60)"
   ]
  },
  {
   "cell_type": "code",
   "execution_count": 6,
   "id": "50e0d297-2578-4d1e-8349-3207b49df013",
   "metadata": {},
   "outputs": [],
   "source": [
    "def first_death_grouper(df):\n",
    "    ''' Only keep the first group of players who died.'''\n",
    "    # only keep the first death group\n",
    "    min_deathTime = df.groupby(['encounter_id'])['deathTime'].transform('min')\n",
    "    # Filter the DataFrame to include only rows where the deathTime is the smallest in the encounter_id\n",
    "    first_death_group = df[df['deathTime'] == min_deathTime].groupby(['encounter_id', 'name','deathTime']).size().reset_index(name='count').drop('count',axis=1)\n",
    "    # We could have added this at a prior point but I just thought of it so it is being added here.\n",
    "    # This connects the encounter times, so we can remove the final deathtimes with the final combat death. Seeing how the last group of people aren't really causing the wipe we want to exclude them\n",
    "    first_death_group\n",
    "    return first_death_group\n",
    "    \n",
    "first_death_group = first_death_grouper(player_data_clean)"
   ]
  },
  {
   "cell_type": "code",
   "execution_count": 7,
   "id": "ab9944c3-af27-46d0-bf36-88f635a4d4f0",
   "metadata": {},
   "outputs": [],
   "source": [
    "def nth_death_grouper(full_df,first_deaths_df):\n",
    "    '''grab the next layer of deaths past the first group\n",
    "    You can run this on the result df in a loop to drill down deeper into groups'''\n",
    "    drilled_down_deaths = full_df.merge(first_deaths_df, on='deathTime', how='left', indicator=True)\n",
    "    result_df = drilled_down_deaths[drilled_down_deaths['_merge'] == 'left_only'].drop(columns='_merge')\n",
    "    # fix names\n",
    "    result_df = result_df[['name_x','encounter_id_x','deathTime']].rename(columns={'name_x': 'name',\n",
    "                                                                                     'encounter_id_x' : 'encounter_id',\n",
    "                                                                                     'deathTime': 'deathTime'})\n",
    "    return result_df\n",
    "\n",
    "second_group_deaths_df = nth_death_grouper(player_data_clean,first_death_group)"
   ]
  },
  {
   "cell_type": "code",
   "execution_count": null,
   "id": "386b60c6-d937-41d2-9ec8-7fecbe9f83a4",
   "metadata": {},
   "outputs": [],
   "source": []
  },
  {
   "cell_type": "code",
   "execution_count": 8,
   "id": "b55fba19-7fe3-41d0-8be9-44021da989c5",
   "metadata": {},
   "outputs": [],
   "source": [
    "# add in a custom metric for prog and 1st reclear\n",
    "prog_data = player_data_clean[player_data_clean['encounter_id'] < 510]\n",
    "reclear_data = player_data_clean[player_data_clean['encounter_id'] >= 510]\n"
   ]
  },
  {
   "cell_type": "code",
   "execution_count": 9,
   "id": "dbd99825-bbc0-48aa-ae9a-cc95bb54b167",
   "metadata": {},
   "outputs": [],
   "source": [
    "# Group deaths and remove junk names\n",
    "def parse_first_second_groups(df):\n",
    "    first_group_df = remove_junk_names(first_death_grouper(df))\n",
    "    second_group_df = remove_junk_names(nth_death_grouper(df,first_group_df))\n",
    "    \n",
    "    first_group_df = first_group_df.groupby(['name']).count().reset_index()\n",
    "    second_group_df = second_group_df.groupby(['name']).count().reset_index()\n",
    "    \n",
    "    merged_group = first_group_df.merge(second_group_df, on='name', how='left').drop(['deathTime_x','deathTime_y'],axis=1)\n",
    "    merged_group = merged_group.rename(columns={'name':'name',\n",
    "                               'encounter_id_x' : 'first_death_group_count',\n",
    "                                'encounter_id_y' : 'second_death_group_count'\n",
    "                               })\n",
    "    return merged_group"
   ]
  },
  {
   "cell_type": "code",
   "execution_count": 10,
   "id": "4a9c133d-7fb9-4eb4-aabe-0bf51ba22474",
   "metadata": {},
   "outputs": [],
   "source": [
    "# Performance Logs\n",
    "prog_results = parse_first_second_groups(prog_data)\n",
    "reclear_results = parse_first_second_groups(reclear_data)\n",
    "\n",
    "# Chickenwings was broken for the reclear data manually adding back in\n",
    "chicken_reclear_row_fix = {'name': 'Chickenwings' ,\n",
    "'first_death_group_count': 0,\n",
    " 'second_death_group_count': 2 \n",
    "}\n",
    "\n",
    "reclear_results = pd.concat([reclear_results,pd.DataFrame([chicken_reclear_row_fix])], ignore_index=True)"
   ]
  },
  {
   "cell_type": "code",
   "execution_count": 11,
   "id": "a59d0598-663e-49f7-837d-fab91a866184",
   "metadata": {},
   "outputs": [],
   "source": [
    "# reclear_results"
   ]
  },
  {
   "cell_type": "code",
   "execution_count": 12,
   "id": "3be20e6d-3d97-445c-87ab-5695c5b77278",
   "metadata": {},
   "outputs": [],
   "source": [
    "# prog_results.sort_values('first_death_group_count',ascending=False)"
   ]
  },
  {
   "cell_type": "code",
   "execution_count": 13,
   "id": "ef7a17aa-196e-4aa0-873e-91dc79ea1b60",
   "metadata": {},
   "outputs": [
    {
     "data": {
      "image/png": "[encoded data removed]",
      "text/plain": [
       "<Figure size 640x480 with 1 Axes>"
      ]
     },
     "metadata": {},
     "output_type": "display_data"
    }
   ],
   "source": [
    "import pandas as pd\n",
    "import matplotlib.pyplot as plt\n",
    "import json\n",
    "\n",
    "plot_df = reclear_results.sort_values('first_death_group_count',ascending=False)\n",
    "\n",
    "# Plotting\n",
    "fig, ax = plt.subplots()\n",
    "width = 0.35\n",
    "x = range(len(plot_df))\n",
    "\n",
    "bars1 = ax.bar(x, plot_df['first_death_group_count'], width, label='First Death Group')\n",
    "bars2 = ax.bar([i + width for i in x], plot_df['second_death_group_count'], width, label='Second Death Group')\n",
    "\n",
    "ax.set_ylabel('Deaths')\n",
    "ax.set_title('Death Counts')\n",
    "ax.set_xticks([i + width/2 for i in x])\n",
    "# for everyones name\n",
    "# ax.set_xticklabels(plot_df['name'], rotation=90)  # Rotate x-axis labels 90 degrees\n",
    "ax.set_xticklabels([1,2,3,4,5,6,7,'Chickenwings'], rotation=90)  # Rotate x-axis labels 90 degrees\n",
    "ax.legend()\n",
    "\n",
    "# Attach labels\n",
    "def autolabel(bars):\n",
    "    for bar in bars:\n",
    "        height = bar.get_height()\n",
    "        ax.annotate('{}'.format(height),\n",
    "                    xy=(bar.get_x() + bar.get_width() / 2, height),\n",
    "                    xytext=(0, 3),  # 3 points vertical offset\n",
    "                    textcoords=\"offset points\",\n",
    "                    ha='center', va='bottom')\n",
    "\n",
    "autolabel(bars1)\n",
    "autolabel(bars2)\n",
    "\n",
    "plt.show()\n"
   ]
  },
  {
   "cell_type": "code",
   "execution_count": 14,
   "id": "616e5b2e-fd33-4100-9680-48c94ced8845",
   "metadata": {},
   "outputs": [
    {
     "data": {
      "image/png": "[encoded data removed]",
      "text/plain": [
       "<Figure size 640x480 with 1 Axes>"
      ]
     },
     "metadata": {},
     "output_type": "display_data"
    }
   ],
   "source": [
    "import pandas as pd\n",
    "import matplotlib.pyplot as plt\n",
    "import json\n",
    "\n",
    "plot_df = prog_results.sort_values('first_death_group_count',ascending=False)\n",
    "\n",
    "# Plotting\n",
    "fig, ax = plt.subplots()\n",
    "width = 0.35\n",
    "x = range(len(plot_df))\n",
    "\n",
    "bars1 = ax.bar(x, plot_df['first_death_group_count'], width, label='First Death Group')\n",
    "bars2 = ax.bar([i + width for i in x], plot_df['second_death_group_count'], width, label='Second Death Group')\n",
    "\n",
    "ax.set_ylabel('Deaths')\n",
    "ax.set_title('Death Counts')\n",
    "ax.set_xticks([i + width/2 for i in x])\n",
    "# for everyones name\n",
    "# ax.set_xticklabels(plot_df['name'], rotation=90)  # Rotate x-axis labels 90 degrees\n",
    "ax.set_xticklabels([1,'Chickenwings',3,4,5,6,7,8], rotation=90)  # Rotate x-axis labels 90 degrees\n",
    "ax.legend()\n",
    "\n",
    "# Attach labels\n",
    "def autolabel(bars):\n",
    "    for bar in bars:\n",
    "        height = bar.get_height()\n",
    "        ax.annotate('{}'.format(height),\n",
    "                    xy=(bar.get_x() + bar.get_width() / 2, height),\n",
    "                    xytext=(0, 3),  # 3 points vertical offset\n",
    "                    textcoords=\"offset points\",\n",
    "                    ha='center', va='bottom')\n",
    "\n",
    "autolabel(bars1)\n",
    "autolabel(bars2)\n",
    "\n",
    "plt.show()\n"
   ]
  },
  {
   "cell_type": "code",
   "execution_count": 15,
   "id": "9c82a6c2-61b0-4a4b-a82e-cc4d4f6c353a",
   "metadata": {},
   "outputs": [],
   "source": [
    "prog_results.loc[prog_results['name'] == 'Chickenwings','name'] = 'prog'\n",
    "reclear_results.loc[reclear_results['name'] == 'Chickenwings','name'] = 'reclear'\n",
    "mergered_single = prog_results.merge(reclear_results,on='name',how='outer')\n",
    "mergered_single = mergered_single[mergered_single['name'].str.contains('prog|reclear')]\n",
    "# removing 1 for clear pull\n",
    "mergered_single['total_pulls'] = [(prog_data['encounter_id'].nunique() - 1),(reclear_data['encounter_id'].nunique()-1)]"
   ]
  },
  {
   "cell_type": "code",
   "execution_count": 16,
   "id": "aaf8ee75-bda2-4db5-8e6a-efd60651a401",
   "metadata": {},
   "outputs": [],
   "source": [
    "# Move the Y data to the X location then dump the Y columns\n",
    "mergered_single.loc[mergered_single['name'] == 'reclear','first_death_group_count_x'] = mergered_single.loc[mergered_single['name'] == 'reclear','first_death_group_count_y'] \n",
    "mergered_single.loc[mergered_single['name'] == 'reclear','second_death_group_count_x'] = mergered_single.loc[mergered_single['name'] == 'reclear','second_death_group_count_y'] \n",
    "mergered_single = mergered_single[['name', 'first_death_group_count_x', 'second_death_group_count_x','total_pulls']]\n",
    "\n",
    "# Revaluing of the columns to convert them to percentage\n",
    "mergered_single['first_death_group_count_x'] = mergered_single['first_death_group_count_x']/mergered_single['total_pulls']\n",
    "mergered_single['second_death_group_count_x'] = mergered_single['second_death_group_count_x']/mergered_single['total_pulls']\n",
    "\n",
    "# Fix the column names\n",
    "mergered_single = mergered_single.rename(columns={'name' : 'name',\n",
    "                                'first_death_group_count_x' : 'first_death_group',\n",
    "                                'second_death_group_count_x' : 'second_death_group',\n",
    "                                'total_pulls' : 'total_pulls'\n",
    "    \n",
    "})\n",
    "\n",
    "mergered_single = mergered_single[['name', 'first_death_group', 'second_death_group']]\n"
   ]
  },
  {
   "cell_type": "code",
   "execution_count": 17,
   "id": "b25ab4ee-8d14-48b8-b562-a15e0b7570ba",
   "metadata": {},
   "outputs": [
    {
     "data": {
      "text/html": [
       "<div>\n",
       "<style scoped>\n",
       "    .dataframe tbody tr th:only-of-type {\n",
       "        vertical-align: middle;\n",
       "    }\n",
       "\n",
       "    .dataframe tbody tr th {\n",
       "        vertical-align: top;\n",
       "    }\n",
       "\n",
       "    .dataframe thead th {\n",
       "        text-align: right;\n",
       "    }\n",
       "</style>\n",
       "<table border=\"1\" class=\"dataframe\">\n",
       "  <thead>\n",
       "    <tr style=\"text-align: right;\">\n",
       "      <th></th>\n",
       "      <th>name</th>\n",
       "      <th>first_death_group</th>\n",
       "      <th>second_death_group</th>\n",
       "    </tr>\n",
       "  </thead>\n",
       "  <tbody>\n",
       "    <tr>\n",
       "      <th>1</th>\n",
       "      <td>prog</td>\n",
       "      <td>0.178571</td>\n",
       "      <td>0.314286</td>\n",
       "    </tr>\n",
       "    <tr>\n",
       "      <th>10</th>\n",
       "      <td>reclear</td>\n",
       "      <td>0.000000</td>\n",
       "      <td>0.090909</td>\n",
       "    </tr>\n",
       "  </tbody>\n",
       "</table>\n",
       "</div>"
      ],
      "text/plain": [
       "       name  first_death_group  second_death_group\n",
       "1      prog           0.178571            0.314286\n",
       "10  reclear           0.000000            0.090909"
      ]
     },
     "execution_count": 17,
     "metadata": {},
     "output_type": "execute_result"
    }
   ],
   "source": [
    "mergered_single"
   ]
  },
  {
   "cell_type": "code",
   "execution_count": 21,
   "id": "f1d9e4d5-cf62-4d20-93a2-a9e4f7c9f7d9",
   "metadata": {},
   "outputs": [
    {
     "data": {
      "image/png": "[encoded data removed]",
      "text/plain": [
       "<Figure size 640x480 with 1 Axes>"
      ]
     },
     "metadata": {},
     "output_type": "display_data"
    }
   ],
   "source": [
    "import pandas as pd\n",
    "import matplotlib.pyplot as plt\n",
    "import json\n",
    "\n",
    "df = mergered_single\n",
    "\n",
    "# Plotting\n",
    "fig, ax = plt.subplots()\n",
    "width = 0.35\n",
    "x = range(len(df))\n",
    "\n",
    "bars1 = ax.bar(x, df['first_death_group'], width, label='First Death')\n",
    "bars2 = ax.bar([i + width for i in x], df['second_death_group'], width, label='Second Death')\n",
    "\n",
    "ax.set_ylabel('Percentage')\n",
    "ax.set_title('Pulls Where Chickenwings Was Apart of the Death Group')\n",
    "ax.set_xticks([i + width/2 for i in x])\n",
    "ax.set_xticklabels(df['name'])\n",
    "ax.legend()\n",
    "\n",
    "# Format y-axis as percentages\n",
    "ax.yaxis.set_major_formatter(plt.FuncFormatter(lambda x, _: '{:.0%}'.format(x)))\n",
    "ax.set_xticklabels(['DB','ESO'])  # Rotate x-axis labels 90 degrees\n",
    "\n",
    "# Attach labels\n",
    "def autolabel(bars):\n",
    "    for bar in bars:\n",
    "        height = bar.get_height()\n",
    "        ax.annotate('{:.2%}'.format(height),\n",
    "                    xy=(bar.get_x() + bar.get_width() / 2, height),\n",
    "                    xytext=(0, 3),  # 3 points vertical offset\n",
    "                    textcoords=\"offset points\",\n",
    "                    ha='center', va='bottom')\n",
    "\n",
    "autolabel(bars1)\n",
    "autolabel(bars2)\n",
    "\n",
    "plt.show()"
   ]
  },
  {
   "cell_type": "code",
   "execution_count": null,
   "id": "0b4497e8-673b-45a4-8325-d18ed90ebb04",
   "metadata": {},
   "outputs": [],
   "source": []
  }
 ],
 "metadata": {
  "kernelspec": {
   "display_name": "Python 3 (ipykernel)",
   "language": "python",
   "name": "python3"
  },
  "language_info": {
   "codemirror_mode": {
    "name": "ipython",
    "version": 3
   },
   "file_extension": ".py",
   "mimetype": "text/x-python",
   "name": "python",
   "nbconvert_exporter": "python",
   "pygments_lexer": "ipython3",
   "version": "3.11.7"
  }
 },
 "nbformat": 4,
 "nbformat_minor": 5
}
